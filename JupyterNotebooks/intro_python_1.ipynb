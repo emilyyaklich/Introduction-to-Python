{
 "cells": [
  {
   "cell_type": "markdown",
   "metadata": {
    "colab_type": "text",
    "id": "K0fYGeLuluwY"
   },
   "source": [
    "# Introduction to Python\n",
    "\n",
    "If this is your first time learning about programming or Python, congratulations! \n",
    "\n",
    "\n",
    "\n",
    "\n",
    "\n",
    "\n",
    "\n",
    "\n"
   ]
  },
  {
   "cell_type": "markdown",
   "metadata": {
    "colab_type": "text",
    "id": "4fn4Qfft3GB-"
   },
   "source": [
    "## **Table of Contents**"
   ]
  },
  {
   "cell_type": "markdown",
   "metadata": {
    "colab_type": "text",
    "id": "ioVO71526-JG"
   },
   "source": [
    "1. Commenting\n",
    "2. Indentation\n",
    "3. Assinging a Variable\n",
    "4. Types\n",
    "5. Data Structures\n",
    "6. Functions\n"
   ]
  },
  {
   "cell_type": "markdown",
   "metadata": {
    "colab_type": "text",
    "id": "MMOWt7LN9WS_"
   },
   "source": [
    "*What* is Python?\n",
    "\n",
    "*   Easy to learn and use programming langugage\n",
    "     *   Highly readable\n",
    "     "
   ]
  },
  {
   "cell_type": "markdown",
   "metadata": {
    "colab_type": "text",
    "id": "mk5AtO3I9cfI"
   },
   "source": [
    "Why Python?\n",
    "\n",
    "\n",
    "*   Open Source (freely available for download + distribution)\n",
    "*   Built-in support for scientific computing\n",
    "*   Bridges to MATLAB or R\n",
    "*   Again, highly readable"
   ]
  },
  {
   "cell_type": "markdown",
   "metadata": {
    "colab_type": "text",
    "id": "AJI_15n_6AA7"
   },
   "source": [
    "**How to download and use Python** \n",
    "\n",
    "The most preferred way is to use Anaconda. https://www.anaconda.com/\n",
    "\n",
    "It serves a role as a package manager with preinstalled powerful packages such as\n",
    "* Numpy (Numerical Python)\n",
    "* Pandas (Python Data Analysis Library)\n",
    "* Scipy \n",
    "* Matplotlib\n"
   ]
  },
  {
   "cell_type": "markdown",
   "metadata": {
    "colab_type": "text",
    "id": "noZq3BIkqL_m"
   },
   "source": [
    "## 1.   **Commenting**\n",
    "\n",
    "\n",
    "\n",
    "\n"
   ]
  },
  {
   "cell_type": "markdown",
   "metadata": {
    "colab_type": "text",
    "id": "_y8zysK4rBEA"
   },
   "source": [
    "Commenting might seem like extra work; however, it is a must-have habit that will help other people who use your codes as well as you in the future if you have to come back to review or change your codes."
   ]
  },
  {
   "cell_type": "markdown",
   "metadata": {
    "colab_type": "text",
    "id": "Hh3ORya1rj2v"
   },
   "source": [
    "A comment should be a readable explanation of your code\n",
    "* Helps you to understand the steps that you took to get to your result\n",
    "* Makes reproducibility easier"
   ]
  },
  {
   "cell_type": "markdown",
   "metadata": {
    "colab_type": "text",
    "id": "LXhZVmJG8wRe"
   },
   "source": [
    "There are three different ways to comment:\n",
    "* Using #\n",
    "* Using two sets of \" \" \"  (Used for longer comments)\n",
    "* In Jupyter notebook, commenting can be replaced by \"Markdown\" cells. Double click here and see how this cell is set up."
   ]
  },
  {
   "cell_type": "code",
   "execution_count": null,
   "metadata": {
    "colab": {},
    "colab_type": "code",
    "id": "OTm8APJOqg1L"
   },
   "outputs": [],
   "source": [
    "# This is a comment\n",
    "\"\"\"This is also a comment\"\"\"\n",
    "# Any text behind the comment symbol will be ignored by the interpreter "
   ]
  },
  {
   "cell_type": "markdown",
   "metadata": {
    "colab_type": "text",
    "id": "359afbyjt_i8"
   },
   "source": [
    "*Write a comment below that states your name and your favorite color!*"
   ]
  },
  {
   "cell_type": "code",
   "execution_count": null,
   "metadata": {
    "colab": {},
    "colab_type": "code",
    "id": "SKcZ6K5p8x7T"
   },
   "outputs": [],
   "source": []
  },
  {
   "cell_type": "markdown",
   "metadata": {
    "colab_type": "text",
    "id": "C3EQdmcB5S0_"
   },
   "source": [
    "## **2. Indentation**"
   ]
  },
  {
   "cell_type": "markdown",
   "metadata": {
    "colab_type": "text",
    "id": "ehxhWFo6qWhA"
   },
   "source": [
    "Indentation is a key component of Python. It aids in defining 'code blocks,' which are sections of code which are run together. The best practice for indentation is using four spaces. We will talk about indentation more when we cover conditional statements and loops (in the next workshop)!"
   ]
  },
  {
   "cell_type": "code",
   "execution_count": null,
   "metadata": {
    "colab": {},
    "colab_type": "code",
    "id": "oobJ8Ih_xQnf"
   },
   "outputs": [],
   "source": [
    "# this is not indented\n",
    "    # this IS indented"
   ]
  },
  {
   "cell_type": "markdown",
   "metadata": {
    "colab_type": "text",
    "id": "SuzXLB1Xs72y"
   },
   "source": [
    "## 3. **Assigning a Variable** \n",
    "\n",
    "\n",
    "\n",
    "\n",
    "\n",
    "\n",
    "\n"
   ]
  },
  {
   "cell_type": "markdown",
   "metadata": {
    "colab_type": "text",
    "id": "nDX6eTuzp2rG"
   },
   "source": [
    "What is a variable?\n",
    "- A variable is something that you can store data under. You can store any type, data structure, etc.\n",
    "\n",
    "Variables are created by the '=' symbol. "
   ]
  },
  {
   "cell_type": "markdown",
   "metadata": {
    "colab_type": "text",
    "id": "EDYRkTdfwkqF"
   },
   "source": [
    "Tips for creating variables:\n",
    "* case sensitive\n",
    "* must start with a letter (a-z or A-Z) or an underscore\n"
   ]
  },
  {
   "cell_type": "code",
   "execution_count": null,
   "metadata": {
    "colab": {},
    "colab_type": "code",
    "id": "VL_e3yX9wUAj"
   },
   "outputs": [],
   "source": [
    "# for example\n",
    "my_variable = 10 \n",
    "MY_VARIABLE = 10\n",
    "# we just created TWO different variables that are equal to 10"
   ]
  },
  {
   "cell_type": "markdown",
   "metadata": {
    "colab_type": "text",
    "id": "QOa3BbYbrtDG"
   },
   "source": [
    "## 4. **Types**"
   ]
  },
  {
   "cell_type": "markdown",
   "metadata": {
    "colab_type": "text",
    "id": "J4XmWO6c6Zat"
   },
   "source": [
    "### **String:** a string is an ordered list of characters.\n",
    "* a string is denoted by ' ' or \" \"' \n",
    "* a string can contain any type of character as long as it is contained within the marks"
   ]
  },
  {
   "cell_type": "code",
   "execution_count": null,
   "metadata": {
    "colab": {},
    "colab_type": "code",
    "id": "J9vXfWEvwITz"
   },
   "outputs": [],
   "source": [
    "# for example\n",
    "my_string = 'Learning python is cool'\n",
    "my_string2 = \"123!!!\""
   ]
  },
  {
   "cell_type": "markdown",
   "metadata": {
    "colab_type": "text",
    "id": "3E-6bUOnNYf9"
   },
   "source": [
    "*Create a string below that contains your favorite ice cream flavor. Assign it to a variable that is your FIRST NAME.*"
   ]
  },
  {
   "cell_type": "code",
   "execution_count": null,
   "metadata": {
    "colab": {},
    "colab_type": "code",
    "id": "RZR7uewIY96R"
   },
   "outputs": [],
   "source": []
  },
  {
   "cell_type": "markdown",
   "metadata": {
    "colab_type": "text",
    "id": "hO9BNipMM3nG"
   },
   "source": [
    "### **Integer**: an integer is a positive or negative **whole number**."
   ]
  },
  {
   "cell_type": "code",
   "execution_count": null,
   "metadata": {
    "colab": {},
    "colab_type": "code",
    "id": "NXAYoPYPNkK7"
   },
   "outputs": [],
   "source": [
    "# for example\n",
    "my_integer = 9\n",
    "my_integer2 = -3"
   ]
  },
  {
   "cell_type": "markdown",
   "metadata": {
    "colab_type": "text",
    "id": "xGK02YrzNsY6"
   },
   "source": [
    "Simple mathematical operations can be done using integers:\n"
   ]
  },
  {
   "cell_type": "code",
   "execution_count": null,
   "metadata": {
    "colab": {},
    "colab_type": "code",
    "id": "XCa37wm9NxTB"
   },
   "outputs": [],
   "source": [
    "print(9+3) #addition can be done using the plus\n",
    "print(9-3) #subtraction can be done using the dash\n",
    "print(9*3) #multiplication is done using the asterisk \n",
    "\n",
    "#we will touch on division in a bit - it is more complicated!!"
   ]
  },
  {
   "cell_type": "markdown",
   "metadata": {
    "colab_type": "text",
    "id": "YPmbdL4DPBZf"
   },
   "source": [
    "**Notice how print() is used to display the result of our calculations. We will talk about this soon!**"
   ]
  },
  {
   "cell_type": "code",
   "execution_count": null,
   "metadata": {
    "colab": {},
    "colab_type": "code",
    "id": "ChQHEwQXOcgW"
   },
   "outputs": [],
   "source": [
    "# stored variables can be used in calculations\n",
    "print(my_integer + my_integer2) "
   ]
  },
  {
   "cell_type": "code",
   "execution_count": null,
   "metadata": {
    "colab": {},
    "colab_type": "code",
    "id": "j62xQuBqSFqm"
   },
   "outputs": [],
   "source": [
    "# the result may be stored as its own variable\n",
    "my_integer3 = my_integer + my_integer2 \n",
    "print(my_integer3)"
   ]
  },
  {
   "cell_type": "markdown",
   "metadata": {
    "colab_type": "text",
    "id": "H_TQawQqP7eR"
   },
   "source": [
    "*Multiply your two favorite integers below. Don't forget to use print()!!*\n",
    "\n",
    "\n",
    "\n"
   ]
  },
  {
   "cell_type": "code",
   "execution_count": null,
   "metadata": {
    "colab": {},
    "colab_type": "code",
    "id": "7prh9nK0SO0L"
   },
   "outputs": [],
   "source": []
  },
  {
   "cell_type": "markdown",
   "metadata": {
    "colab_type": "text",
    "id": "Rq83TdHPQorr"
   },
   "source": [
    "### **Float:** a number with a fractional value\n",
    "* floats are treated differently than integers, so it is important to keep this distinction in mind"
   ]
  },
  {
   "cell_type": "code",
   "execution_count": null,
   "metadata": {
    "colab": {},
    "colab_type": "code",
    "id": "cO76DzAzRiQy"
   },
   "outputs": [],
   "source": [
    "# for example\n",
    "my_float = 8.75\n",
    "my_float2 = 1.32"
   ]
  },
  {
   "cell_type": "code",
   "execution_count": null,
   "metadata": {
    "colab": {},
    "colab_type": "code",
    "id": "GX_iNeL4R61Z"
   },
   "outputs": [],
   "source": [
    "# mathematical operations can be performed on floats\n",
    "print(my_float + my_float2)"
   ]
  },
  {
   "cell_type": "code",
   "execution_count": null,
   "metadata": {
    "colab": {},
    "colab_type": "code",
    "id": "acXZ4tijXGpj"
   },
   "outputs": [],
   "source": [
    "# division is a bit more complicated\n",
    "print(9/4) # one forward slash yields a non-integer (fraction/float) result\n",
    "print(9//4) # two forward slashes indicate floor division in which a whole number\n",
    "             # is returned "
   ]
  },
  {
   "cell_type": "markdown",
   "metadata": {
    "colab_type": "text",
    "id": "1RtUhFf6hlkV"
   },
   "source": [
    "*What does the division operator below return? Why is this?*"
   ]
  },
  {
   "cell_type": "code",
   "execution_count": null,
   "metadata": {
    "colab": {},
    "colab_type": "code",
    "id": "SOgiuF8OhVZo"
   },
   "outputs": [],
   "source": [
    "print(my_float//my_float2)"
   ]
  },
  {
   "cell_type": "markdown",
   "metadata": {
    "colab_type": "text",
    "id": "XnmsLLFQhxM9"
   },
   "source": [
    "*Rewrite the line above so that the division will return a fractional value.*"
   ]
  },
  {
   "cell_type": "code",
   "execution_count": null,
   "metadata": {
    "colab": {},
    "colab_type": "code",
    "id": "HSFIzs0Dh_1V"
   },
   "outputs": [],
   "source": []
  },
  {
   "cell_type": "markdown",
   "metadata": {
    "colab_type": "text",
    "id": "GshqmP1SSpSH"
   },
   "source": [
    "### **Boolean:** logical operator that is either True or False (1 or 0)."
   ]
  },
  {
   "cell_type": "code",
   "execution_count": null,
   "metadata": {
    "colab": {},
    "colab_type": "code",
    "id": "jsUTcdPLaEFm"
   },
   "outputs": [],
   "source": [
    "# for example\n",
    "my_boolean = True\n",
    "my_boolean2 = False"
   ]
  },
  {
   "cell_type": "code",
   "execution_count": null,
   "metadata": {
    "colab": {},
    "colab_type": "code",
    "id": "a3VAqnLXU9H0"
   },
   "outputs": [],
   "source": [
    "# additonally comparison operators return boolean values\n",
    "print(15 > 10)\n",
    "print(my_float < 1)"
   ]
  },
  {
   "cell_type": "markdown",
   "metadata": {
    "colab_type": "text",
    "id": "Ch4jCBvczs8t"
   },
   "source": [
    "*Write a statement that will return 'False' below.*"
   ]
  },
  {
   "cell_type": "code",
   "execution_count": null,
   "metadata": {
    "colab": {},
    "colab_type": "code",
    "id": "udIFM3H6z24E"
   },
   "outputs": [],
   "source": []
  },
  {
   "cell_type": "markdown",
   "metadata": {
    "colab_type": "text",
    "id": "jWmOxcN8tezl"
   },
   "source": [
    "## 5. **Data Structures**\n",
    "\n",
    "\n",
    "\n",
    "\n",
    "\n",
    "\n",
    "\n"
   ]
  },
  {
   "cell_type": "markdown",
   "metadata": {
    "colab_type": "text",
    "id": "dCKog-2X1UKt"
   },
   "source": [
    "What are some of the different ways we can store the 'Types' that we just talked about in section 3?"
   ]
  },
  {
   "cell_type": "markdown",
   "metadata": {
    "colab_type": "text",
    "id": "Gs44yDa9gZ1I"
   },
   "source": [
    "### **List**: a **mutable** ordered sequence of elements\n",
    "* the creation of a list is denoted by [ ]\n",
    "* lists are useful for storing multiple elements of the same or different types\n",
    "* lists can have repeated elements\n",
    "* lists are mutable, meaning that they CAN be changed"
   ]
  },
  {
   "cell_type": "code",
   "execution_count": null,
   "metadata": {
    "colab": {},
    "colab_type": "code",
    "id": "qGQ-nsPzbkI2"
   },
   "outputs": [],
   "source": [
    "# for example\n",
    "my_color_list = ['red', 'orange', 'yellow', 'green']\n",
    "my_number_list = [1, 6 ,5 ,5 ,8, 2, 7]\n",
    "print(my_color_list)\n",
    "print(my_number_list)"
   ]
  },
  {
   "cell_type": "code",
   "execution_count": null,
   "metadata": {
    "colab": {},
    "colab_type": "code",
    "id": "uO_8KUeXYysI"
   },
   "outputs": [],
   "source": [
    "# a list with different types\n",
    "my_list = [1, 'Hello', 52.4, 'World', True]\n",
    "print(my_list)"
   ]
  },
  {
   "cell_type": "markdown",
   "metadata": {
    "colab_type": "text",
    "id": "BmaAahcwZKEo"
   },
   "source": [
    "*What types are used in the list we just created above?*\n",
    "\n",
    "\n",
    "\n",
    "\n",
    "\n"
   ]
  },
  {
   "cell_type": "markdown",
   "metadata": {
    "colab_type": "text",
    "id": "SthhrZ6tZkT4"
   },
   "source": [
    "*Create a list with your top 5 favorite integers. Assign it to a variable that is your LAST NAME.*\n",
    "* *If you are comfortable you can 'print()' your list to see what it looks like!*"
   ]
  },
  {
   "cell_type": "code",
   "execution_count": null,
   "metadata": {
    "colab": {},
    "colab_type": "code",
    "id": "ODiux91GZi1o"
   },
   "outputs": [],
   "source": []
  },
  {
   "cell_type": "markdown",
   "metadata": {
    "colab_type": "text",
    "id": "Ki0Wv3vP7m7Z"
   },
   "source": [
    "**Indexing your list**\n",
    "\n",
    "What if you want to access a specific element in your list? For example, in 'my_list' what if I only wanted to return the string ' World'?\n",
    "* This can be done by indexing your list\n",
    "* Indexing is done using an integer\n",
    "* Indexing can be done by using square brackets containing the element you desire to be indexed\n",
    "* Python is a zero-indexing language, which means that the first element will start at zero. "
   ]
  },
  {
   "cell_type": "code",
   "execution_count": null,
   "metadata": {
    "colab": {},
    "colab_type": "code",
    "id": "oNXU7JjM7_BS"
   },
   "outputs": [],
   "source": [
    "# let's look at the first element of our list\n",
    "my_list = [1, 'Hello', 52.4, 'World', True]\n",
    "print(my_list[0])"
   ]
  },
  {
   "cell_type": "markdown",
   "metadata": {
    "colab_type": "text",
    "id": "ThmGL6HE8M43"
   },
   "source": [
    "The first element in our list is the integer 1, which was printed out under the index [0]. "
   ]
  },
  {
   "cell_type": "code",
   "execution_count": null,
   "metadata": {
    "colab": {},
    "colab_type": "code",
    "id": "5n6mBVmy88Gl"
   },
   "outputs": [],
   "source": [
    "# now let's look at the second element in our list:\n",
    "my_list[1]"
   ]
  },
  {
   "cell_type": "markdown",
   "metadata": {
    "colab_type": "text",
    "id": "YJqs62tL9TLi"
   },
   "source": [
    "*Write a line of code that will return the string element 'World' from my_list. Remember than python is indexed from ZERO.*"
   ]
  },
  {
   "cell_type": "code",
   "execution_count": null,
   "metadata": {
    "colab": {},
    "colab_type": "code",
    "id": "PVTVHEni9bhq"
   },
   "outputs": [],
   "source": []
  },
  {
   "cell_type": "markdown",
   "metadata": {
    "colab_type": "text",
    "id": "RmTec-SL9x2N"
   },
   "source": [
    "It is also possible to 'slice' a list which can return more than one selected element from a list. Let's look at how we can slice a list."
   ]
  },
  {
   "cell_type": "code",
   "execution_count": null,
   "metadata": {
    "colab": {},
    "colab_type": "code",
    "id": "JKyXBWza-WDa"
   },
   "outputs": [],
   "source": [
    "my_list[0:3]"
   ]
  },
  {
   "cell_type": "markdown",
   "metadata": {
    "colab_type": "text",
    "id": "hanMqWpa-nC_"
   },
   "source": [
    "The output gives us the first three elements of our list. How did we do this? The 0 indicates to start at the begining of our list and the colon indicates to continue up to element 3, but to not include it. \n",
    "\n",
    "If we want to include element 3, it would look like this:"
   ]
  },
  {
   "cell_type": "code",
   "execution_count": null,
   "metadata": {
    "colab": {},
    "colab_type": "code",
    "id": "9do3b-iQ_MdD"
   },
   "outputs": [],
   "source": [
    "my_list[0:4] # as you can see the slice contains the first four elements of our list"
   ]
  },
  {
   "cell_type": "markdown",
   "metadata": {
    "colab_type": "text",
    "id": "Hrx0_j9K_ui8"
   },
   "source": [
    "It is possible to get fancy with slicing your lists. Some useful examples are as follows:"
   ]
  },
  {
   "cell_type": "code",
   "execution_count": null,
   "metadata": {
    "colab": {},
    "colab_type": "code",
    "id": "_gotsUXN_4ZC"
   },
   "outputs": [],
   "source": [
    "my_list[::-1] # this will reverse our list"
   ]
  },
  {
   "cell_type": "code",
   "execution_count": null,
   "metadata": {
    "colab": {},
    "colab_type": "code",
    "id": "QXmuKCy-AXS_"
   },
   "outputs": [],
   "source": [
    "my_list[2:] #this will list all elements in the list starting at element 2"
   ]
  },
  {
   "cell_type": "markdown",
   "metadata": {
    "colab_type": "text",
    "id": "4Nc9oGwGBGR7"
   },
   "source": [
    "*What does the following slice do?*"
   ]
  },
  {
   "cell_type": "code",
   "execution_count": null,
   "metadata": {
    "colab": {
     "base_uri": "https://localhost:8080/",
     "height": 164
    },
    "colab_type": "code",
    "id": "A92xrtlcA253",
    "outputId": "8200dc6a-eb81-42d7-8894-4c9e83bc8528"
   },
   "outputs": [],
   "source": [
    "my_list[-3:-1]"
   ]
  },
  {
   "cell_type": "markdown",
   "metadata": {
    "colab_type": "text",
    "id": "8V_-J_z9DV30"
   },
   "source": [
    "Changing elements in lists:\n",
    "* A list is mutable meaning that it can be changed\n",
    "* You can change your list by specifying the index you want to change and the new element you want to take its place"
   ]
  },
  {
   "cell_type": "code",
   "execution_count": null,
   "metadata": {
    "colab": {},
    "colab_type": "code",
    "id": "mKqM8anQDlT5"
   },
   "outputs": [],
   "source": [
    "# for example let's change the first element of our list to the string 'skittles'\n",
    "my_list[0] = 'skittles'\n",
    "print(my_list)\n"
   ]
  },
  {
   "cell_type": "markdown",
   "metadata": {
    "colab_type": "text",
    "id": "StMAFuinDvkJ"
   },
   "source": [
    "You can see that the first element of our list was changed!\n",
    "\n",
    "Remember the list you created of your top 5 favorite integers assigned to your last name?\n",
    "*Now change the 3rd element in the list to 52*\n",
    "* *don't forget that python is indexed starting at zero!!!*"
   ]
  },
  {
   "cell_type": "code",
   "execution_count": null,
   "metadata": {
    "colab": {},
    "colab_type": "code",
    "id": "mFixLA2p1i-r"
   },
   "outputs": [],
   "source": []
  },
  {
   "cell_type": "markdown",
   "metadata": {
    "colab_type": "text",
    "id": "c_ADxPmC5_Yx"
   },
   "source": [
    "### **Tuples:** an ordered collection of elements, similar to a list, but tuples are **immutable**\n",
    "* the creation of a tuple is denoted by ()\n",
    "* a tuple can store multiple elements of the same or different types\n",
    "* a tuple can have repeated elements\n",
    "* tuples are immutable, meaning that they CANNOT be changed"
   ]
  },
  {
   "cell_type": "code",
   "execution_count": null,
   "metadata": {
    "colab": {},
    "colab_type": "code",
    "id": "VtrBSermA15L"
   },
   "outputs": [],
   "source": [
    "# for example\n",
    "my_tuple = ('apple', 15, 'green')\n",
    "print(my_tuple)"
   ]
  },
  {
   "cell_type": "markdown",
   "metadata": {
    "colab_type": "text",
    "id": "e653T6f_CMVM"
   },
   "source": [
    "It is also possible to index/slice tuples, very similarly to how a list is sliced."
   ]
  },
  {
   "cell_type": "code",
   "execution_count": null,
   "metadata": {
    "colab": {},
    "colab_type": "code",
    "id": "uj9AGrdECRE1"
   },
   "outputs": [],
   "source": [
    "my_tuple[1] #access the second element"
   ]
  },
  {
   "cell_type": "code",
   "execution_count": null,
   "metadata": {
    "colab": {},
    "colab_type": "code",
    "id": "igr2UE9ybjS2"
   },
   "outputs": [],
   "source": [
    "my_tuple[::-1] # reverse the elements"
   ]
  },
  {
   "cell_type": "markdown",
   "metadata": {
    "colab_type": "text",
    "id": "ZGwPdmOeCgJM"
   },
   "source": [
    "SO, what is the difference between a tuple and a list???? \n",
    "* A list CAN be changed, but a tuple CANNOT be changed\n",
    "\n",
    "Let's take a look at what happens when we try to mutate a tuple."
   ]
  },
  {
   "cell_type": "code",
   "execution_count": null,
   "metadata": {
    "colab": {},
    "colab_type": "code",
    "id": "J-wSRUt4Emcb"
   },
   "outputs": [],
   "source": [
    "my_tuple[0] = 'skittles'"
   ]
  },
  {
   "cell_type": "markdown",
   "metadata": {
    "colab_type": "text",
    "id": "MFJ1M7yDEu0w"
   },
   "source": [
    "Do you see the error?\n",
    "\n",
    "***TypeError: 'tuple' object does not support item assignment***\n",
    "\n",
    "This is because a tuple cannot be changed once it is created. \n",
    "\n"
   ]
  },
  {
   "cell_type": "markdown",
   "metadata": {
    "colab_type": "text",
    "id": "D-aKdv8ZTwIP"
   },
   "source": [
    "### **Dictionary**: an unordered, mutable collection\n",
    "* consists of {key:value} pairs where the keys are unique (no key can repeat in a dicitonary), but the values can be repeated\n",
    "* the creation of a  dictionary is denoted by {}"
   ]
  },
  {
   "cell_type": "code",
   "execution_count": null,
   "metadata": {
    "colab": {},
    "colab_type": "code",
    "id": "qoj4QAUtT5C4"
   },
   "outputs": [],
   "source": [
    "#for example\n",
    "my_dictionary = {'red':1, 'blue':2, 'green':3, 'yellow':4, 'orange':1 }\n",
    "# the colors are the keys (unique) and the numbers are the values\n",
    "print(my_dictionary)"
   ]
  },
  {
   "cell_type": "markdown",
   "metadata": {
    "colab_type": "text",
    "id": "xuI0SxzHU24w"
   },
   "source": [
    "Elements can be added to a dictionary:"
   ]
  },
  {
   "cell_type": "code",
   "execution_count": null,
   "metadata": {
    "colab": {},
    "colab_type": "code",
    "id": "1V67BVkiUj2P"
   },
   "outputs": [],
   "source": [
    "my_dictionary['purple'] = 5 \n",
    "print(my_dictionary)\n",
    "# this will change the value associated with the kay 'blue'\n",
    "my_dictionary['blue'] = 25\n",
    "print(my_dictionary)"
   ]
  },
  {
   "cell_type": "markdown",
   "metadata": {
    "colab_type": "text",
    "id": "I7ZUEVbVZRR5"
   },
   "source": [
    "*Create your own dictionary with the keys as the numbers 1-4 and the values as four different cities that you have visited*\n",
    "* *if you are comfortable don't forget to 'print()' your dictionary to see if it worked!!*"
   ]
  },
  {
   "cell_type": "code",
   "execution_count": null,
   "metadata": {
    "colab": {},
    "colab_type": "code",
    "id": "nh8h0hSCbz3G"
   },
   "outputs": [],
   "source": []
  },
  {
   "cell_type": "markdown",
   "metadata": {
    "colab_type": "text",
    "id": "qqH_XGi3V_XN"
   },
   "source": [
    "Dictionaries can be indexed by the unqiue keys:\n"
   ]
  },
  {
   "cell_type": "code",
   "execution_count": null,
   "metadata": {
    "colab": {},
    "colab_type": "code",
    "id": "b7DmR8SQWE5N"
   },
   "outputs": [],
   "source": [
    "my_dictionary['green'] #will return the value associated with the 'green' key"
   ]
  },
  {
   "cell_type": "markdown",
   "metadata": {
    "colab_type": "text",
    "id": "sAwfIKrJVc1v"
   },
   "source": [
    "It is also possible to return only all of the keys or only all of the values of a dictionary as well:\n"
   ]
  },
  {
   "cell_type": "code",
   "execution_count": null,
   "metadata": {
    "colab": {},
    "colab_type": "code",
    "id": "5y-FIjw0VpYH"
   },
   "outputs": [],
   "source": [
    "my_dictionary.keys() #returns the unique keys"
   ]
  },
  {
   "cell_type": "code",
   "execution_count": null,
   "metadata": {
    "colab": {},
    "colab_type": "code",
    "id": "lgqoH_CSVtrc"
   },
   "outputs": [],
   "source": [
    "my_dictionary.values() #returns the values "
   ]
  },
  {
   "cell_type": "markdown",
   "metadata": {
    "colab_type": "text",
    "id": "j-_U4nUTcfsY"
   },
   "source": [
    "It is also possible to check if a specific key is present in a dictionary:"
   ]
  },
  {
   "cell_type": "code",
   "execution_count": null,
   "metadata": {
    "colab": {},
    "colab_type": "code",
    "id": "HqMuNTnEc49c"
   },
   "outputs": [],
   "source": [
    "'green'in my_dictionary # present in our dicitonary"
   ]
  },
  {
   "cell_type": "code",
   "execution_count": null,
   "metadata": {
    "colab": {},
    "colab_type": "code",
    "id": "vAkaCseodvQk"
   },
   "outputs": [],
   "source": [
    "'pink' in my_dictionary # an element not in our dicitonary"
   ]
  },
  {
   "cell_type": "markdown",
   "metadata": {
    "colab_type": "text",
    "id": "A3yxnMD7dnLD"
   },
   "source": [
    "*What Type was the output above?* \n",
    "* *Remember that the Types we have learned are: String, Integer, Float and Boolean*\n",
    "\n"
   ]
  },
  {
   "cell_type": "markdown",
   "metadata": {
    "colab_type": "text",
    "id": "eMHj5f79t7vM"
   },
   "source": [
    "## 6. **Functions**\n",
    "\n",
    "\n",
    "\n",
    "\n"
   ]
  },
  {
   "cell_type": "markdown",
   "metadata": {
    "colab_type": "text",
    "id": "PcumpcsL538a"
   },
   "source": [
    "\n",
    "Python has many built-in functions that will make your life easier!\n",
    "\n",
    "* A function is a block of code that is only run when it is called\n",
    "* A function will take one or more arguments. An argument is a parameter that the function will compute on.\n",
    "\n",
    "A few useful python functions are:\n",
    "* print()\n",
    "* len()\n",
    "* sum()\n",
    "* max()\n",
    "* min()\n",
    "* type()\n",
    "* sorted()\n",
    "\n",
    "There are many, many, many more!!\n",
    "\n",
    "**The print() function should look familiar; let's practice using that.**"
   ]
  },
  {
   "cell_type": "code",
   "execution_count": null,
   "metadata": {
    "colab": {},
    "colab_type": "code",
    "id": "afun2BqpciVF"
   },
   "outputs": [],
   "source": [
    "#let's print a string\n",
    "print('Hello World')"
   ]
  },
  {
   "cell_type": "code",
   "execution_count": null,
   "metadata": {
    "colab": {},
    "colab_type": "code",
    "id": "HZLZtkGWcqiZ"
   },
   "outputs": [],
   "source": [
    "# let's print the first variable we ever assigned\n",
    "print(my_variable)\n"
   ]
  },
  {
   "cell_type": "markdown",
   "metadata": {
    "colab_type": "text",
    "id": "Xd9lEA9dFVFg"
   },
   "source": [
    "It is also possible to make your own function!\n",
    "\n",
    "Let's take a look at how we do it!"
   ]
  },
  {
   "cell_type": "code",
   "execution_count": null,
   "metadata": {
    "colab": {},
    "colab_type": "code",
    "id": "kfz3vhIJHwfK"
   },
   "outputs": [],
   "source": [
    "def my_function(i,j): # the 'def' is what defines our function\n",
    "    print(i+j)          # we want the function to print x+y"
   ]
  },
  {
   "cell_type": "markdown",
   "metadata": {
    "colab_type": "text",
    "id": "LzmHAXTAIUKD"
   },
   "source": [
    "The 'def' defines the function and the (i,j) are placeholders for the arguments that the funcition will take. Pay attention to the indentation structure!\n",
    "\n",
    "The above code just defined our function...let's use it below!"
   ]
  },
  {
   "cell_type": "code",
   "execution_count": null,
   "metadata": {
    "colab": {},
    "colab_type": "code",
    "id": "XtCMbhz-IGne"
   },
   "outputs": [],
   "source": [
    "x=3\n",
    "y=7\n",
    "my_function(x,y) #x and y are the arguments that we want our function to compute on"
   ]
  },
  {
   "cell_type": "markdown",
   "metadata": {
    "colab_type": "text",
    "id": "6MQ0XdE_dDKm"
   },
   "source": [
    "Now, we will work with the list you created of your top 5 favorite integers. Remember, that you named this list your LAST NAME. \n",
    "\n",
    "*Call the following functions on your integer list and lets see what they do:*\n",
    "\n",
    "* *sorted()*\n",
    "* *sum()*\n",
    "* *len()* \n",
    "\n"
   ]
  },
  {
   "cell_type": "code",
   "execution_count": null,
   "metadata": {
    "colab": {},
    "colab_type": "code",
    "id": "n1hULNxjdykZ"
   },
   "outputs": [],
   "source": []
  },
  {
   "cell_type": "markdown",
   "metadata": {
    "colab_type": "text",
    "id": "ndkLc1R2dzFm"
   },
   "source": [
    "*What did the functions do?*"
   ]
  },
  {
   "cell_type": "markdown",
   "metadata": {
    "colab_type": "text",
    "id": "tFWRRxkmydib"
   },
   "source": [
    "# What we will cover next time:"
   ]
  },
  {
   "cell_type": "markdown",
   "metadata": {
    "colab_type": "text",
    "id": "gqElDpV3ysRO"
   },
   "source": [
    "1. Condtional Logic Statements\n",
    "2. Loops\n",
    "3. File Input and Output\n",
    "4. NumPy\n",
    "5. Pandas\n",
    "6. Matplotlib"
   ]
  },
  {
   "cell_type": "markdown",
   "metadata": {
    "colab_type": "text",
    "id": "PMJo5AWk2fLr"
   },
   "source": [
    "# THANK YOU!"
   ]
  }
 ],
 "metadata": {
  "colab": {
   "collapsed_sections": [
    "4fn4Qfft3GB-",
    "noZq3BIkqL_m",
    "C3EQdmcB5S0_",
    "SuzXLB1Xs72y",
    "QOa3BbYbrtDG",
    "J4XmWO6c6Zat",
    "Rq83TdHPQorr",
    "GshqmP1SSpSH",
    "Gs44yDa9gZ1I",
    "c_ADxPmC5_Yx",
    "D-aKdv8ZTwIP",
    "eMHj5f79t7vM",
    "tFWRRxkmydib"
   ],
   "name": "python_intro_12-11-2019.ipynb",
   "provenance": []
  },
  "kernelspec": {
   "display_name": "Python 3",
   "language": "python",
   "name": "python3"
  },
  "language_info": {
   "codemirror_mode": {
    "name": "ipython",
    "version": 3
   },
   "file_extension": ".py",
   "mimetype": "text/x-python",
   "name": "python",
   "nbconvert_exporter": "python",
   "pygments_lexer": "ipython3",
   "version": "3.6.8"
  }
 },
 "nbformat": 4,
 "nbformat_minor": 2
}
